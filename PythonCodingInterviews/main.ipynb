{
 "cells": [
  {
   "cell_type": "markdown",
   "metadata": {},
   "source": [
    "***VARIABLES***"
   ]
  },
  {
   "cell_type": "code",
   "execution_count": 2,
   "metadata": {},
   "outputs": [
    {
     "name": "stdout",
     "output_type": "stream",
     "text": [
      "n = 7\n",
      "n = seven\n",
      "1 2 3\n",
      "1 two 3.0\n",
      "3.0 two 1\n",
      "51\n",
      "52\n",
      "51\n",
      "102\n",
      "51.0\n",
      "1.0\n",
      "0.0\n",
      "0.0\n",
      "n = None\n"
     ]
    }
   ],
   "source": [
    "# Variables are Dynamically typed\n",
    "n = 7\n",
    "print('n =', n)\n",
    "\n",
    "n = 'seven'\n",
    "print('n =', n)\n",
    "\n",
    "# Multiple assignments\n",
    "x, y, z = 1, 2, 3\n",
    "print(x, y, z)\n",
    "\n",
    "x, y, z = 1, 'two', 3.0\n",
    "print(x, y, z)\n",
    "\n",
    "# Multiple assignments\n",
    "x, y, z = z, y, x\n",
    "print(x, y, z)\n",
    "\n",
    "# Increment and decrement\n",
    "x = 50\n",
    "x = x + 1  # 51\n",
    "print(x)\n",
    "x += 1  # 52\n",
    "print(x)\n",
    "x -= 1  # 51\n",
    "print(x)\n",
    "x *= 2  # 102\n",
    "print(x)\n",
    "x /= 2  # 51\n",
    "print(x)\n",
    "x %= 2  # 1\n",
    "print(x)\n",
    "x //= 2  # 0\n",
    "print(x)\n",
    "x **= 2  # 0\n",
    "print(x)\n",
    "\n",
    "# None is null (Absence of value)\n",
    "n = 4\n",
    "n = None\n",
    "print('n =', n)"
   ]
  },
  {
   "cell_type": "markdown",
   "metadata": {},
   "source": [
    "**if-statements**"
   ]
  },
  {
   "cell_type": "code",
   "execution_count": 5,
   "metadata": {},
   "outputs": [
    {
     "name": "stdout",
     "output_type": "stream",
     "text": [
      "n = 8\n",
      "n = 12\n"
     ]
    }
   ],
   "source": [
    "# If statements don't need parentheses or curly braces\n",
    "\n",
    "n = 10\n",
    "\n",
    "if n > 5:\n",
    "    n -= 2\n",
    "elif n == 5:\n",
    "    n *= 2\n",
    "else:\n",
    "    n += 2\n",
    "\n",
    "print('n =', n)\n",
    "\n",
    "\n",
    "# Parenthesis needed for multi-line conditions\n",
    "# and = &&\n",
    "# or = ||\n",
    "\n",
    "n, m = 10, 5\n",
    "\n",
    "if ((n > 2 and n != m)) or n == m:\n",
    "    n += 2\n",
    "\n",
    "print('n =', n)"
   ]
  },
  {
   "cell_type": "markdown",
   "metadata": {},
   "source": [
    "**LOOPS**"
   ]
  },
  {
   "cell_type": "code",
   "execution_count": 6,
   "metadata": {},
   "outputs": [
    {
     "name": "stdout",
     "output_type": "stream",
     "text": [
      "End of while loop\n",
      "0\n",
      "1\n",
      "2\n",
      "3\n",
      "4\n",
      "End of range(5) for loop\n",
      "2\n",
      "3\n",
      "4\n",
      "5\n",
      "End of range(2, 6) for loop\n",
      "5\n",
      "4\n",
      "3\n",
      "End of range(5, 2, -1) for loop\n"
     ]
    }
   ],
   "source": [
    "n = 5\n",
    "\n",
    "while n < 5:\n",
    "    print(n)\n",
    "    n += 1\n",
    "\n",
    "print(\"End of while loop\")\n",
    "\n",
    "# Looping from _ = 0 to _ = 4\n",
    "for _ in range(5):\n",
    "    print(_)\n",
    "\n",
    "print(\"End of range(5) for loop\")\n",
    "\n",
    "# Looping from _ = 2 to _ = 5\n",
    "for _ in range(2, 6):\n",
    "    print(_)\n",
    "\n",
    "print(\"End of range(2, 6) for loop\")\n",
    "\n",
    "# Looping from _ = 5 to _ = 2\n",
    "for _ in range(5, 1, -1):\n",
    "    print(_)\n",
    "\n",
    "print(\"End of range(5, 2, -1) for loop\")"
   ]
  }
 ],
 "metadata": {
  "kernelspec": {
   "display_name": "Python 3",
   "language": "python",
   "name": "python3"
  },
  "language_info": {
   "codemirror_mode": {
    "name": "ipython",
    "version": 3
   },
   "file_extension": ".py",
   "mimetype": "text/x-python",
   "name": "python",
   "nbconvert_exporter": "python",
   "pygments_lexer": "ipython3",
   "version": "3.9.6"
  }
 },
 "nbformat": 4,
 "nbformat_minor": 2
}
