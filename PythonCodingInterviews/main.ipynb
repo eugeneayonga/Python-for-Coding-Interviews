{
 "cells": [
  {
   "cell_type": "markdown",
   "metadata": {},
   "source": [
    "***VARIABLES***"
   ]
  },
  {
   "cell_type": "code",
   "execution_count": 2,
   "metadata": {},
   "outputs": [
    {
     "name": "stdout",
     "output_type": "stream",
     "text": [
      "n = 7\n",
      "n = seven\n",
      "1 2 3\n",
      "1 two 3.0\n",
      "3.0 two 1\n",
      "51\n",
      "52\n",
      "51\n",
      "102\n",
      "51.0\n",
      "1.0\n",
      "0.0\n",
      "0.0\n",
      "n = None\n"
     ]
    }
   ],
   "source": [
    "# Variables are Dynamically typed\n",
    "n = 7\n",
    "print('n =', n)\n",
    "\n",
    "n = 'seven'\n",
    "print('n =', n)\n",
    "\n",
    "# Multiple assignments\n",
    "x, y, z = 1, 2, 3\n",
    "print(x, y, z)\n",
    "\n",
    "x, y, z = 1, 'two', 3.0\n",
    "print(x, y, z)\n",
    "\n",
    "# Multiple assignments\n",
    "x, y, z = z, y, x\n",
    "print(x, y, z)\n",
    "\n",
    "# Increment and decrement\n",
    "x = 50\n",
    "x = x + 1  # 51\n",
    "print(x)\n",
    "x += 1  # 52\n",
    "print(x)\n",
    "x -= 1  # 51\n",
    "print(x)\n",
    "x *= 2  # 102\n",
    "print(x)\n",
    "x /= 2  # 51\n",
    "print(x)\n",
    "x %= 2  # 1\n",
    "print(x)\n",
    "x //= 2  # 0\n",
    "print(x)\n",
    "x **= 2  # 0\n",
    "print(x)\n",
    "\n",
    "# None is null (Absence of value)\n",
    "n = 4\n",
    "n = None\n",
    "print('n =', n)"
   ]
  }
 ],
 "metadata": {
  "kernelspec": {
   "display_name": "Python 3",
   "language": "python",
   "name": "python3"
  },
  "language_info": {
   "codemirror_mode": {
    "name": "ipython",
    "version": 3
   },
   "file_extension": ".py",
   "mimetype": "text/x-python",
   "name": "python",
   "nbconvert_exporter": "python",
   "pygments_lexer": "ipython3",
   "version": "3.9.6"
  }
 },
 "nbformat": 4,
 "nbformat_minor": 2
}
